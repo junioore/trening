{
 "cells": [
  {
   "cell_type": "code",
   "execution_count": null,
   "id": "f26bf3af-1584-4add-8f46-10d2a58b1a2e",
   "metadata": {},
   "outputs": [],
   "source": [
    "# 1. Ask for the user's first name and display the output message: Hello [First Name]"
   ]
  },
  {
   "cell_type": "code",
   "execution_count": 2,
   "id": "cddf46e7-3004-4c3c-9f0e-cefc0f81cd8e",
   "metadata": {},
   "outputs": [
    {
     "name": "stdin",
     "output_type": "stream",
     "text": [
      "Please enter your first name:  Marcin\n"
     ]
    },
    {
     "name": "stdout",
     "output_type": "stream",
     "text": [
      "Hello Marcin\n"
     ]
    }
   ],
   "source": [
    "firstname = input (\"Please enter your first name: \")\n",
    "print (\"Hello\", firstname)"
   ]
  },
  {
   "cell_type": "code",
   "execution_count": null,
   "id": "26fb34c9-7c60-411f-877b-3ddba4906f03",
   "metadata": {},
   "outputs": [],
   "source": [
    "# 2. Ask for the user's first name and then ask for their surname and display the output message: Hello [First Name] [Surname]"
   ]
  },
  {
   "cell_type": "code",
   "execution_count": 3,
   "id": "d73b8cc5-9af9-4fba-ba2a-c9f585a087ff",
   "metadata": {
    "scrolled": true
   },
   "outputs": [
    {
     "name": "stdin",
     "output_type": "stream",
     "text": [
      "Please enter your first name:  Marcin\n",
      "Please enter your surname:  Piasek\n"
     ]
    },
    {
     "name": "stdout",
     "output_type": "stream",
     "text": [
      "Hello Marcin Piasek\n"
     ]
    }
   ],
   "source": [
    "firstname = input (\"Please enter your first name: \")\n",
    "surname = input (\"Please enter your surname: \")\n",
    "print (\"Hello\", firstname, surname)"
   ]
  },
  {
   "cell_type": "code",
   "execution_count": null,
   "id": "fc1ede18-6756-4e5e-bb7e-be73d7b387c7",
   "metadata": {},
   "outputs": [],
   "source": [
    "# 3. Write code that will display the joke \"What do you call a bear with no teeth?\" and on the next line display the answer \"A gummy bear\". Try to create in using only one line of code.#\n"
   ]
  },
  {
   "cell_type": "code",
   "execution_count": 5,
   "id": "de60bf35-67b0-42f5-a614-93b9cd48645d",
   "metadata": {},
   "outputs": [
    {
     "name": "stdout",
     "output_type": "stream",
     "text": [
      "What do you call a bear with no teeth?\n",
      "A gummy bear!\n"
     ]
    }
   ],
   "source": [
    "print (\"What do you call a bear with no teeth?\\nA gummy bear!\")"
   ]
  },
  {
   "cell_type": "code",
   "execution_count": null,
   "id": "d732edd0-b854-4ea8-bc6f-bf2fe063f208",
   "metadata": {},
   "outputs": [],
   "source": [
    "# 4. Ask user to enter two numbers. Add them together and display the answer as \" The total is [answer]\""
   ]
  },
  {
   "cell_type": "code",
   "execution_count": 8,
   "id": "daf162cb-2d14-4020-9d83-fdc201d64662",
   "metadata": {},
   "outputs": [
    {
     "name": "stdin",
     "output_type": "stream",
     "text": [
      "Please enter your first number:  32\n",
      "Please enter your second number:  54\n"
     ]
    },
    {
     "name": "stdout",
     "output_type": "stream",
     "text": [
      "The total is 86\n"
     ]
    }
   ],
   "source": [
    "num1 = int(input (\"Please enter your first number: \"))\n",
    "num2 = int(input (\"Please enter your second number: \"))\n",
    "answer = num1 + num2\n",
    "print (\"The total is\", answer)"
   ]
  },
  {
   "cell_type": "code",
   "execution_count": null,
   "id": "4d10d16e-ecf2-4409-bd86-218723b5402d",
   "metadata": {},
   "outputs": [],
   "source": [
    "# 5. Ask the user to enter three numbers. Add together the first two numbers and the multiply this total by the third. Display the answer as: The answer is [answer]"
   ]
  },
  {
   "cell_type": "code",
   "execution_count": 9,
   "id": "8223b0c7-5278-488d-a895-292fc0a6d035",
   "metadata": {},
   "outputs": [
    {
     "name": "stdin",
     "output_type": "stream",
     "text": [
      "Please enter your first number:  3\n",
      "Please enter your second number:  2\n",
      "Please enter your third number:  3\n"
     ]
    },
    {
     "name": "stdout",
     "output_type": "stream",
     "text": [
      "The answer is 15\n"
     ]
    }
   ],
   "source": [
    "num1 = int(input (\"Please enter your first number: \"))\n",
    "num2 = int(input (\"Please enter your second number: \"))\n",
    "num3 = int(input (\"Please enter your third number: \"))\n",
    "answer = (num1 + num2) * num3\n",
    "print (\"The answer is\", answer)"
   ]
  },
  {
   "cell_type": "code",
   "execution_count": null,
   "id": "98aa6a77-f1c8-4e20-b741-7ad2bd58d722",
   "metadata": {},
   "outputs": [],
   "source": [
    "# 6. Ask how many slices of pizza the user staretd with and ask how many slices they have eaten. Work out how mamny slices they have left and display the answer in a user frendly format."
   ]
  },
  {
   "cell_type": "code",
   "execution_count": 12,
   "id": "60a787af-1018-451b-9e08-73e98a1cb7a5",
   "metadata": {},
   "outputs": [
    {
     "name": "stdin",
     "output_type": "stream",
     "text": [
      "Enter the number of slices of pizza you started with:  8\n",
      "How many slices of pizza have you eaten?:  5\n"
     ]
    },
    {
     "name": "stdout",
     "output_type": "stream",
     "text": [
      "You have 3 slices remaining.\n"
     ]
    }
   ],
   "source": [
    "startNum = int(input (\"Enter the number of slices of pizza you started with: \"))\n",
    "endNum = int(input (\"How many slices of pizza have you eaten?: \"))\n",
    "answer = startNum - endNum\n",
    "print (\"You have\", answer, \"slices remaining.\")"
   ]
  },
  {
   "cell_type": "code",
   "execution_count": null,
   "id": "9a57089b-ae8c-4dd8-a61b-85bb8b15fbc7",
   "metadata": {},
   "outputs": [],
   "source": [
    "# 7. Ask the user for their name and their age. Add 1 to theri age and display the output: [Name] next birthday you will be [new age]"
   ]
  },
  {
   "cell_type": "code",
   "execution_count": 13,
   "id": "d32dd7ba-b0d7-45b3-ba7d-b161474a76bc",
   "metadata": {},
   "outputs": [
    {
     "name": "stdin",
     "output_type": "stream",
     "text": [
      "What is your name?:  Marcin\n",
      "How old are you?:  36\n"
     ]
    },
    {
     "name": "stdout",
     "output_type": "stream",
     "text": [
      "Marcin next birthday you will be 37\n"
     ]
    }
   ],
   "source": [
    "name = str(input (\"What is your name?: \"))\n",
    "age = int(input (\"How old are you?: \"))\n",
    "new_age = age + 1\n",
    "print (name, \"next birthday you will be\", new_age)"
   ]
  },
  {
   "cell_type": "code",
   "execution_count": null,
   "id": "fb62889a-e83f-43f6-9ea8-5636958d9577",
   "metadata": {},
   "outputs": [],
   "source": [
    "# 8. Ask for the total price of the bill, then ask how many diners there are. Divide to total bill by the number of diners and show how much each person must pay."
   ]
  },
  {
   "cell_type": "code",
   "execution_count": 14,
   "id": "30b9f6ff-9814-45a1-a5ae-7e4b99ab4e21",
   "metadata": {},
   "outputs": [
    {
     "name": "stdin",
     "output_type": "stream",
     "text": [
      "What is the total cost of the bill?:  100\n",
      "How many people are there?:  5\n"
     ]
    },
    {
     "name": "stdout",
     "output_type": "stream",
     "text": [
      "Each person should pay 20.0\n"
     ]
    }
   ],
   "source": [
    "total_price = int(input (\"What is the total cost of the bill?: \"))\n",
    "total_people = int(input (\"How many people are there?: \"))\n",
    "per_person = total_price / total_people\n",
    "print (\"Each person should pay\", per_person)\n",
    "                  "
   ]
  },
  {
   "cell_type": "code",
   "execution_count": null,
   "id": "df38599c-3009-41af-88df-9d2181ce4aa0",
   "metadata": {},
   "outputs": [],
   "source": [
    "# 9. Write a program that will ask for a number of days and then will show how many hours, minutes and seconds are in that number of days."
   ]
  },
  {
   "cell_type": "code",
   "execution_count": 16,
   "id": "1f650fca-542f-48b6-8126-25e79e70c84f",
   "metadata": {},
   "outputs": [
    {
     "name": "stdin",
     "output_type": "stream",
     "text": [
      "Enter the number of days:  22\n"
     ]
    },
    {
     "name": "stdout",
     "output_type": "stream",
     "text": [
      "In 22 days there are: \n",
      "528 hours\n",
      "31680 minutes\n",
      "1900800 seconds\n"
     ]
    }
   ],
   "source": [
    "days = int(input (\"Enter the number of days: \"))\n",
    "hours = days * 24\n",
    "minutes = hours * 60\n",
    "seconds = minutes * 60\n",
    "print (\"In\", days, \"days there are: \")\n",
    "print (hours, \"hours\")\n",
    "print (minutes, \"minutes\")\n",
    "print (seconds, \"seconds\")"
   ]
  },
  {
   "cell_type": "code",
   "execution_count": null,
   "id": "466b2fca-2fac-4e65-b1f9-c850104b4988",
   "metadata": {},
   "outputs": [],
   "source": [
    "# 10. There are 2.204 pounds in a kilogram. Ask the user to enter a weight in kilograms and convert it to pounds."
   ]
  },
  {
   "cell_type": "code",
   "execution_count": 17,
   "id": "7a2f3e92-dbca-445a-ac1e-a242060a69cb",
   "metadata": {},
   "outputs": [
    {
     "name": "stdin",
     "output_type": "stream",
     "text": [
      "Enter a weight in kilograms:  100\n"
     ]
    },
    {
     "name": "stdout",
     "output_type": "stream",
     "text": [
      "That is 220.4 pounds\n"
     ]
    }
   ],
   "source": [
    "weight_kg = int(input(\"Enter a weight in kilograms: \"))\n",
    "weight_pounds = weight_kg * 2.204\n",
    "print (\"That is\", weight_pounds, \"pounds\")"
   ]
  },
  {
   "cell_type": "code",
   "execution_count": null,
   "id": "8cfaf835-4b76-46b1-876e-e0861b50dc78",
   "metadata": {},
   "outputs": [],
   "source": [
    "# 11. Task the user to enter a number over 100 and then enter a number under 10 and tell them how many times the smaller number goes into the larger numbe in a user frendly format"
   ]
  },
  {
   "cell_type": "code",
   "execution_count": 22,
   "id": "00c0f6b0-8da6-448f-8f87-954cdd5d9dcd",
   "metadata": {},
   "outputs": [
    {
     "name": "stdin",
     "output_type": "stream",
     "text": [
      "Please enter a number over 100:  3432\n",
      "Please enter a numer under 10:  3\n"
     ]
    },
    {
     "name": "stdout",
     "output_type": "stream",
     "text": [
      "3 goes into 3432 , 1144.0 times\n"
     ]
    }
   ],
   "source": [
    "num1 = int(input(\"Please enter a number over 100: \"))\n",
    "num2 = int(input(\"Please enter a numer under 10: \"))\n",
    "answer = round(num1 / num2,2)\n",
    "print(num2, \"goes into\", num1,\",\", answer, \"times\")"
   ]
  },
  {
   "cell_type": "code",
   "execution_count": null,
   "id": "1b1c4b72-7911-4c74-93ee-d6b8fc6e421b",
   "metadata": {},
   "outputs": [],
   "source": [
    "# 12. Ask for two numbers. If the first one is larger than the second, display the second number first and then the first number, otherwise show the first number first and then the second."
   ]
  },
  {
   "cell_type": "code",
   "execution_count": 24,
   "id": "a0517b14-258b-45f4-b093-88e51c12ba7a",
   "metadata": {},
   "outputs": [
    {
     "name": "stdin",
     "output_type": "stream",
     "text": [
      "Please enter first number:  2\n",
      "Please enter second number:  32\n"
     ]
    },
    {
     "name": "stdout",
     "output_type": "stream",
     "text": [
      "32 2\n"
     ]
    }
   ],
   "source": [
    "num1 = int(input(\"Please enter first number: \"))\n",
    "num2 = int(input(\"Please enter second number: \"))\n",
    "if num1 > num2:\n",
    "    print (num1, num2)\n",
    "else:\n",
    "    print (num2, num1)"
   ]
  },
  {
   "cell_type": "code",
   "execution_count": null,
   "id": "34974213-6407-4131-ae72-f11e6f283833",
   "metadata": {},
   "outputs": [],
   "source": [
    "# 13. Ask the user to enter a number that is under 20. If they enter a number that is 20 or more, display the message: Too high, otherwise display: Thank you"
   ]
  },
  {
   "cell_type": "code",
   "execution_count": 29,
   "id": "f141e2ce-171a-4268-a5ed-6b9ad26d47d6",
   "metadata": {},
   "outputs": [
    {
     "name": "stdin",
     "output_type": "stream",
     "text": [
      "Please enter a number that is under 20:  12\n"
     ]
    },
    {
     "name": "stdout",
     "output_type": "stream",
     "text": [
      "Thank you\n"
     ]
    }
   ],
   "source": [
    "num1 = int(input(\"Please enter a number that is under 20: \"))\n",
    "if num1 >= 20:\n",
    "    print(\"Too high\")\n",
    "else:\n",
    "    print(\"Thank you\")"
   ]
  },
  {
   "cell_type": "code",
   "execution_count": null,
   "id": "4760a29b-132b-4871-8545-4de02459561f",
   "metadata": {},
   "outputs": [],
   "source": [
    "# 14. ASk the use to enter a number between 10 and 20 (inclusive). If they enter a number withing this range, display message: Thank you, otherwise display the message: incorrect answer."
   ]
  },
  {
   "cell_type": "code",
   "execution_count": 34,
   "id": "5e38e3c2-d31a-4a30-a7f1-e88ec7352485",
   "metadata": {},
   "outputs": [
    {
     "name": "stdin",
     "output_type": "stream",
     "text": [
      "Please enter a number between 10 and 20 (inclusive):  10\n"
     ]
    },
    {
     "name": "stdout",
     "output_type": "stream",
     "text": [
      "Thank you\n"
     ]
    }
   ],
   "source": [
    "num1 = int(input(\"Please enter a number between 10 and 20 (inclusive): \"))\n",
    "if num1 >= 10 and num1 <= 20:\n",
    "    print(\"Thank you\")\n",
    "else:\n",
    "    print(\"Incorrect answer\")"
   ]
  },
  {
   "cell_type": "code",
   "execution_count": null,
   "id": "a90c8125-6116-4b80-ad8e-e5ab317c893f",
   "metadata": {},
   "outputs": [],
   "source": [
    "# 15. Ask the user to enter their favourite colour. If they enter red, RED, Red display the message\" I like red too, otherwise display the messafge: I don't like [colour], I prefer red."
   ]
  },
  {
   "cell_type": "code",
   "execution_count": 37,
   "id": "c29b134b-bcf3-4406-a026-515d956c460f",
   "metadata": {},
   "outputs": [
    {
     "name": "stdin",
     "output_type": "stream",
     "text": [
      "Please enter your favourite colour:  Red\n"
     ]
    },
    {
     "name": "stdout",
     "output_type": "stream",
     "text": [
      "I like red too.\n"
     ]
    }
   ],
   "source": [
    "colour = str(input(\"Please enter your favourite colour: \"))\n",
    "if colour == \"red\" or colour == \"RED\" or colour == \"Red\":\n",
    "    print(\"I like red too.\")\n",
    "else:\n",
    "    print(\"I don't like\", colour, \"I prefer red.\")"
   ]
  },
  {
   "cell_type": "code",
   "execution_count": null,
   "id": "b6e676a2-18ec-444b-a274-7ed59d126165",
   "metadata": {},
   "outputs": [],
   "source": [
    "# 16. Ask the user if it raining and convert their answer to lower case so it doesn't matter what case they type it in. If they answer: yes, ask if it windy. If they answer: yes to this second question, display the answer: It is too windy for an umbrella, otherwise display the message: Take an umbrella. If they did not answer yes to the first question, display the answer: Enjoy your day."
   ]
  },
  {
   "cell_type": "code",
   "execution_count": 44,
   "id": "a1f81272-6560-433b-82dc-0f44c4b4485c",
   "metadata": {},
   "outputs": [
    {
     "name": "stdin",
     "output_type": "stream",
     "text": [
      "Is it raining?:  yes\n",
      "Is it windy?:  no\n"
     ]
    },
    {
     "name": "stdout",
     "output_type": "stream",
     "text": [
      "Take an umbrella\n"
     ]
    }
   ],
   "source": [
    "question1 = input(\"Is it raining?: \")\n",
    "question1 = str.lower(question1)\n",
    "if question1 == \"yes\":\n",
    "    question2 = input(\"Is it windy?: \")\n",
    "    question2 = str.lower(question2)\n",
    "    if question2 == \"yes\":\n",
    "        print(\"It is too windy for an umbrella\")\n",
    "    else: \n",
    "        print(\"Take an umbrella\")\n",
    "else:\n",
    "    print (\"enjoy your day\")"
   ]
  },
  {
   "cell_type": "code",
   "execution_count": null,
   "id": "12331818-6a7a-4aff-b4c0-366525a18fdc",
   "metadata": {},
   "outputs": [],
   "source": [
    "# 17. Ask the user's age. If they are 18 or over, display the message: you can vote. If they are age 17, display message: You can learn to drive. If they are 16, display the message: You can buy a lottery ticket, if they are under 16, display the message: You can go trick-or-treating."
   ]
  },
  {
   "cell_type": "code",
   "execution_count": 54,
   "id": "c9081fe2-81ae-465c-a2b7-6dd9e6cec92b",
   "metadata": {},
   "outputs": [
    {
     "name": "stdin",
     "output_type": "stream",
     "text": [
      "How old are you?:  14\n"
     ]
    },
    {
     "name": "stdout",
     "output_type": "stream",
     "text": [
      "You can go trick-or-treating\n"
     ]
    }
   ],
   "source": [
    "num1 = int(input(\"How old are you?: \"))\n",
    "if num1 >= 18:\n",
    "    print(\"You can vote!\")\n",
    "elif num1 == 17:\n",
    "    print(\"You can learn to drive\")\n",
    "elif num1 == 16:\n",
    "    print(\"You can buy a lottery ticket\")\n",
    "elif num1 < 16:\n",
    "    print(\"You can go trick-or-treating\")"
   ]
  },
  {
   "cell_type": "code",
   "execution_count": null,
   "id": "0175e31d-4c69-4a8a-b643-08b2439fdacd",
   "metadata": {},
   "outputs": [],
   "source": [
    "# 18. Ask the user to enter a number. If it is under 10, display the message: Too low, if their number is between 10 and 20, display: Correct, otherwise display: Too high"
   ]
  },
  {
   "cell_type": "code",
   "execution_count": 72,
   "id": "35270c14-aeb0-4c6f-9e56-b9669e0631fc",
   "metadata": {},
   "outputs": [
    {
     "name": "stdin",
     "output_type": "stream",
     "text": [
      "Please enter a number:  13\n"
     ]
    },
    {
     "name": "stdout",
     "output_type": "stream",
     "text": [
      "Correct\n"
     ]
    }
   ],
   "source": [
    "num = int(input(\"Please enter a number: \"))\n",
    "if num < 10:\n",
    "    print(\"Too low\")\n",
    "elif num >=10 and num <= 20:\n",
    "    print(\"Correct\")\n",
    "else:\n",
    "    print(\"Too high\")"
   ]
  },
  {
   "cell_type": "code",
   "execution_count": null,
   "id": "1d1ef2a1-ea7f-42de-95ee-9c9707a485c9",
   "metadata": {},
   "outputs": [],
   "source": [
    "# 19. Ask the user to enter 1, 2 or 3. If they enter 1, display the message: Thank you, if they enter a 2, display: Well done, if they enter 3, display: Correct. If they enter anything else, display \"Error message\"\n"
   ]
  },
  {
   "cell_type": "code",
   "execution_count": 67,
   "id": "9e3eb6af-5b61-46c5-980b-53ba9885500f",
   "metadata": {},
   "outputs": [
    {
     "name": "stdin",
     "output_type": "stream",
     "text": [
      "Please enter 1, 2 or 3:  5\n"
     ]
    },
    {
     "name": "stdout",
     "output_type": "stream",
     "text": [
      "Error message\n"
     ]
    }
   ],
   "source": [
    "num = int(input(\"Please enter 1, 2 or 3: \"))\n",
    "if num == 1:\n",
    "    print(\"Thank you\")\n",
    "elif num == 2:\n",
    "    print(\"Well done\")\n",
    "elif num == 3:\n",
    "    print(\"Correct\")\n",
    "else:\n",
    "    print(\"Error message\")"
   ]
  },
  {
   "cell_type": "code",
   "execution_count": null,
   "id": "6c3a19aa-b50f-4966-a157-086115e5b3ec",
   "metadata": {},
   "outputs": [],
   "source": [
    "# 20. Ask the user to enter their first name and then display the length of their name. "
   ]
  },
  {
   "cell_type": "code",
   "execution_count": 76,
   "id": "bf28e7ff-d7c9-485a-93bb-30149ea25222",
   "metadata": {},
   "outputs": [
    {
     "name": "stdin",
     "output_type": "stream",
     "text": [
      "Please enter your first name:  January\n"
     ]
    },
    {
     "name": "stdout",
     "output_type": "stream",
     "text": [
      "7\n"
     ]
    }
   ],
   "source": [
    "firstname = input (\"Please enter your first name: \")\n",
    "length = len(firstname)\n",
    "print (length)"
   ]
  },
  {
   "cell_type": "code",
   "execution_count": null,
   "id": "50300717-d5da-45d7-b339-1d8091077cd1",
   "metadata": {},
   "outputs": [],
   "source": [
    "# 21. Ask the user their first name and then ask them to enter their surname. Join them together with a space between and display the name and the length of whole name."
   ]
  },
  {
   "cell_type": "code",
   "execution_count": 77,
   "id": "80aaeaa5-8fe2-4266-8d41-c278851de70a",
   "metadata": {},
   "outputs": [
    {
     "name": "stdin",
     "output_type": "stream",
     "text": [
      "Please enter your first name:  Marcin\n",
      "Please enter your surname:  Piasek\n"
     ]
    },
    {
     "name": "stdout",
     "output_type": "stream",
     "text": [
      "Marcin Piasek\n",
      "13\n"
     ]
    }
   ],
   "source": [
    "firstname = input (\"Please enter your first name: \")\n",
    "surname = input (\"Please enter your surname: \")\n",
    "name = firstname+\" \"+surname\n",
    "length = len(name)\n",
    "print (name)\n",
    "print(length)"
   ]
  },
  {
   "cell_type": "code",
   "execution_count": null,
   "id": "3bf00fb5-0bc2-470e-8276-50f0902ad783",
   "metadata": {},
   "outputs": [],
   "source": [
    "# 22. Ask the user to enter their first name and surname in lower case. Change the case to title case and join them together. Display the finished result."
   ]
  },
  {
   "cell_type": "code",
   "execution_count": 79,
   "id": "e6635e32-39ce-4a7e-b937-6c4320ec6224",
   "metadata": {},
   "outputs": [
    {
     "name": "stdin",
     "output_type": "stream",
     "text": [
      "Please enter your first name in lower case:  jan\n",
      "Please enter your surname in lower case:  nowak\n"
     ]
    },
    {
     "name": "stdout",
     "output_type": "stream",
     "text": [
      "Jan Nowak\n"
     ]
    }
   ],
   "source": [
    "firstname = input (\"Please enter your first name in lower case: \")\n",
    "surname = input (\"Please enter your surname in lower case: \")\n",
    "firstname = firstname.title()\n",
    "surname = surname.title()\n",
    "name = firstname+\" \"+surname\n",
    "print(name)"
   ]
  },
  {
   "cell_type": "code",
   "execution_count": null,
   "id": "02059e66-ae2d-43a3-afaf-6cfe20252c41",
   "metadata": {},
   "outputs": [],
   "source": [
    "# 23. Ask the user to type the first line of a nursery rhyme and display the length of the string. Ask for a starting number and an ending number and then display just that sector of the text (remember Python start counting from 0 not 1)"
   ]
  },
  {
   "cell_type": "code",
   "execution_count": 81,
   "id": "19cbfb8e-fe78-4a5b-a7ba-0d734a1c785c",
   "metadata": {},
   "outputs": [
    {
     "name": "stdin",
     "output_type": "stream",
     "text": [
      "Please type the first line of a nursery rhyme:  Wpadła bomba do piwnicy\n"
     ]
    },
    {
     "name": "stdout",
     "output_type": "stream",
     "text": [
      "This has 23 letters in it\n"
     ]
    },
    {
     "name": "stdin",
     "output_type": "stream",
     "text": [
      "Enter a starting number:  4\n",
      "Enter an ending number:  16\n"
     ]
    },
    {
     "name": "stdout",
     "output_type": "stream",
     "text": [
      "ła bomba do \n"
     ]
    }
   ],
   "source": [
    "nursery_rhyme = str(input(\"Please type the first line of a nursery rhyme: \"))\n",
    "length=len(nursery_rhyme)\n",
    "print(\"This has\", length, \"letters in it\")\n",
    "a = int(input(\"Enter a starting number: \"))\n",
    "b = int(input(\"Enter an ending number: \"))\n",
    "part = (nursery_rhyme [a:b])\n",
    "print(part)\n"
   ]
  },
  {
   "cell_type": "code",
   "execution_count": null,
   "id": "9081815f-a358-4e2f-859b-d78b0267d128",
   "metadata": {},
   "outputs": [],
   "source": [
    "# 24. Ask the user to type in any word and display it in upper case."
   ]
  },
  {
   "cell_type": "code",
   "execution_count": 83,
   "id": "b303387e-7b9a-4bfe-b4aa-bc5c2e611325",
   "metadata": {},
   "outputs": [
    {
     "name": "stdin",
     "output_type": "stream",
     "text": [
      "Please enter any word:  makarena\n"
     ]
    },
    {
     "name": "stdout",
     "output_type": "stream",
     "text": [
      "MAKARENA\n"
     ]
    }
   ],
   "source": [
    "word = str(input(\"Please enter any word: \"))\n",
    "word = word.upper()\n",
    "print(word)"
   ]
  },
  {
   "cell_type": "code",
   "execution_count": null,
   "id": "c882af71-3fd2-4ccc-acb9-7b93ecf2cb14",
   "metadata": {},
   "outputs": [],
   "source": [
    "# 25. Ask the user to enter their first name. If the lenght of their first name is under five characters, ask them to enter their surname and join them together (without a space) and display the name in upper case. If the length of the first name is five or more characters, display their first name in lower case."
   ]
  },
  {
   "cell_type": "code",
   "execution_count": 85,
   "id": "63ccaca4-e58a-4547-a5d3-8906616ab101",
   "metadata": {},
   "outputs": [
    {
     "name": "stdin",
     "output_type": "stream",
     "text": [
      "Please enter your first name:  Tomasz\n"
     ]
    },
    {
     "name": "stdout",
     "output_type": "stream",
     "text": [
      "tomasz\n"
     ]
    }
   ],
   "source": [
    "firstname = str(input(\"Please enter your first name: \"))\n",
    "length=len(firstname)\n",
    "if length < 5:\n",
    "    surname = str(input(\"Please enter your surname: \"))\n",
    "    name = firstname+surname\n",
    "    print(name.upper())\n",
    "else:\n",
    "    print(firstname.lower())\n",
    "    "
   ]
  },
  {
   "cell_type": "code",
   "execution_count": null,
   "id": "8a2d3a6a-f125-4e8d-8649-7d21da1f2b2f",
   "metadata": {},
   "outputs": [],
   "source": [
    "# 26. Pig Latin takes the first consonant of a word, maves it to the end of the word and ads on an \"ay\". If a word begins with a vowel you just add \"way\" to the end. Create a program thet will ask the user to enter a word and change it into Pig Latin. Make sure the new word is display in lower case."
   ]
  },
  {
   "cell_type": "code",
   "execution_count": 96,
   "id": "a8e1605c-0db3-4c9f-aa2f-341d3aa0b8d4",
   "metadata": {},
   "outputs": [
    {
     "name": "stdin",
     "output_type": "stream",
     "text": [
      "Enter a word:  bigos\n"
     ]
    },
    {
     "name": "stdout",
     "output_type": "stream",
     "text": [
      "igosbay\n"
     ]
    }
   ],
   "source": [
    "word = str(input(\"Enter a word: \"))\n",
    "vovel = [\"a\", \"e\", \"i\", \"o\", \"u\", \"y\"]\n",
    "first=word[0]\n",
    "length = len(word)\n",
    "rest = word[1:length]\n",
    "if first in vovel:\n",
    "    newword = rest+first+\"way\"\n",
    "else:\n",
    "    newword = rest+first+\"ay\"\n",
    "print(newword.lower())"
   ]
  },
  {
   "cell_type": "code",
   "execution_count": null,
   "id": "98c838b3-9559-4c99-9f5a-f67bcb7c0b8f",
   "metadata": {},
   "outputs": [],
   "source": [
    "# 27. Ask the user to enter a number with lots of decimal places. Multiply this number by two and display the answer"
   ]
  },
  {
   "cell_type": "code",
   "execution_count": 100,
   "id": "3990e23e-e484-450c-87f4-9d93d9ad786a",
   "metadata": {},
   "outputs": [
    {
     "name": "stdin",
     "output_type": "stream",
     "text": [
      "Enter a number with lots of decimal places:  2.123123\n"
     ]
    },
    {
     "name": "stdout",
     "output_type": "stream",
     "text": [
      "4.246246\n"
     ]
    }
   ],
   "source": [
    "num = float(input(\"Enter a number with lots of decimal places: \"))\n",
    "answer = num * 2\n",
    "print (answer)"
   ]
  },
  {
   "cell_type": "code",
   "execution_count": null,
   "id": "e0188edf-54b1-4c12-89e9-1ba10472d087",
   "metadata": {},
   "outputs": [],
   "source": [
    "# 28. Update program 27 so that it will display the answer to two decimal places."
   ]
  },
  {
   "cell_type": "code",
   "execution_count": 101,
   "id": "8ee28b2e-7b53-4d12-b15f-caa47b22a1b7",
   "metadata": {},
   "outputs": [
    {
     "name": "stdin",
     "output_type": "stream",
     "text": [
      "Enter a number with lots of decimal places:  2.123123\n"
     ]
    },
    {
     "name": "stdout",
     "output_type": "stream",
     "text": [
      "4.25\n"
     ]
    }
   ],
   "source": [
    "num = float(input(\"Enter a number with lots of decimal places: \"))\n",
    "answer = round(num * 2,2)\n",
    "print (answer)"
   ]
  },
  {
   "cell_type": "code",
   "execution_count": null,
   "id": "b7f5ac32-60ab-4193-940e-f93affa3a3af",
   "metadata": {},
   "outputs": [],
   "source": [
    "# 29. Ask the user to enter an integer that is over 500. Work out the square root of that number and display it to two decimal places"
   ]
  },
  {
   "cell_type": "code",
   "execution_count": 106,
   "id": "63aa9553-491d-4b5f-a527-2a435e62824c",
   "metadata": {},
   "outputs": [],
   "source": [
    "import math"
   ]
  },
  {
   "cell_type": "code",
   "execution_count": 108,
   "id": "f25bf430-fe80-4012-82b7-27af3bdc682e",
   "metadata": {},
   "outputs": [
    {
     "name": "stdin",
     "output_type": "stream",
     "text": [
      "Enter an integer that is over 500:  625\n"
     ]
    },
    {
     "name": "stdout",
     "output_type": "stream",
     "text": [
      "25.0\n"
     ]
    }
   ],
   "source": [
    "num =int(input(\"Enter an integer that is over 500: \"))\n",
    "answer = round(math.sqrt(num),2)\n",
    "print(answer)"
   ]
  },
  {
   "cell_type": "code",
   "execution_count": null,
   "id": "e5476a73-44f4-4562-90f7-1fa40afaf192",
   "metadata": {},
   "outputs": [],
   "source": [
    "# 30. Display pi to five decimal places"
   ]
  },
  {
   "cell_type": "code",
   "execution_count": 109,
   "id": "e49853e1-ac62-4838-ba6d-c995eac905be",
   "metadata": {},
   "outputs": [
    {
     "name": "stdout",
     "output_type": "stream",
     "text": [
      "3.14159\n"
     ]
    }
   ],
   "source": [
    "a = round(math.pi,5)\n",
    "print(a)"
   ]
  },
  {
   "cell_type": "code",
   "execution_count": null,
   "id": "45c381a4-4a1a-48d2-b14f-5461fce952dc",
   "metadata": {},
   "outputs": [],
   "source": [
    "# 31. Ask the user to enter the radius of a circle (measurement from the centre point to the edge) Work out the area of the area of the circus."
   ]
  },
  {
   "cell_type": "code",
   "execution_count": 115,
   "id": "f01d671e-4f9d-4757-960a-31bf9a0a9eab",
   "metadata": {},
   "outputs": [
    {
     "name": "stdin",
     "output_type": "stream",
     "text": [
      "Enter the radius of a circle:  10\n"
     ]
    },
    {
     "name": "stdout",
     "output_type": "stream",
     "text": [
      "The area of the circus is 314.1592653589793\n"
     ]
    }
   ],
   "source": [
    "r = float(input(\"Enter the radius of a circle: \"))\n",
    "answer = math.pi*(r**2)\n",
    "print(\"The area of the circus is\", answer)"
   ]
  },
  {
   "cell_type": "code",
   "execution_count": null,
   "id": "b4b7ee92-f790-49dc-97c4-d85bdf8cf9ee",
   "metadata": {},
   "outputs": [],
   "source": [
    "# 32. Ask for the radius and the depth of a cylinder and work out the total volume (circle area * depth) rounded to three decimal places."
   ]
  },
  {
   "cell_type": "code",
   "execution_count": 116,
   "id": "ed964a8d-3d47-49bc-b96b-3d5e4a97b9a3",
   "metadata": {},
   "outputs": [
    {
     "name": "stdin",
     "output_type": "stream",
     "text": [
      "Enter the radius od a circle:  10\n",
      "Enter the depth of a cylinder:  10\n"
     ]
    },
    {
     "name": "stdout",
     "output_type": "stream",
     "text": [
      "The total volume is 3141.593\n"
     ]
    }
   ],
   "source": [
    "radius = float(input(\"Enter the radius od a circle: \"))\n",
    "depth = float(input(\"Enter the depth of a cylinder: \"))\n",
    "volume = round((math.pi*(radius**2))*depth,3)\n",
    "print(\"The total volume is\", volume)"
   ]
  },
  {
   "cell_type": "code",
   "execution_count": null,
   "id": "7a3c0de5-d727-4dfe-8a9d-ff5a534d3b6c",
   "metadata": {},
   "outputs": [],
   "source": [
    "# 33. Ask the user to enter two numbers. Use whole number division to divide the first number by the second and also work out remainder and display the answer ia a user friendly way"
   ]
  },
  {
   "cell_type": "code",
   "execution_count": 120,
   "id": "e05401a2-27ab-4be3-b375-75e61a459193",
   "metadata": {},
   "outputs": [
    {
     "name": "stdin",
     "output_type": "stream",
     "text": [
      "Enter first number:  32\n",
      "Enter second numer:  11\n"
     ]
    },
    {
     "name": "stdout",
     "output_type": "stream",
     "text": [
      "32 divided by 11 is 2 with 10 remaining\n"
     ]
    }
   ],
   "source": [
    "num1 = int(input(\"Enter first number: \"))\n",
    "num2 = int(input(\"Enter second numer: \"))\n",
    "division = num1 // num2\n",
    "remainder = num1 % num2\n",
    "print(num1,\"divided by\", num2, \"is\", division, \"with\", remainder, \"remaining\")"
   ]
  },
  {
   "cell_type": "code",
   "execution_count": null,
   "id": "8a945137-d58d-49bb-8ff3-85bbb15a8048",
   "metadata": {},
   "outputs": [],
   "source": [
    "# 34. Display the following message: 1) Square 2) Triangle Enter a number: If the user enters 1 then it should ask them for the length of one of it sides and display the area. If they select 2, it should ask for the base and height of the triangle and display the area. If they type anything else, it should give them a suitable error message."
   ]
  },
  {
   "cell_type": "code",
   "execution_count": 137,
   "id": "2ced7a8c-7cfc-4325-b015-54d5461c88de",
   "metadata": {},
   "outputs": [
    {
     "name": "stdout",
     "output_type": "stream",
     "text": [
      "1) Square\n",
      "2) Triangle\n",
      "\n"
     ]
    },
    {
     "name": "stdin",
     "output_type": "stream",
     "text": [
      "Enter a number:  2\n",
      "Enter the base of the triangle:  22\n",
      "Enter the height of the triangle:  12\n"
     ]
    },
    {
     "name": "stdout",
     "output_type": "stream",
     "text": [
      "The area is 132\n"
     ]
    }
   ],
   "source": [
    "print(\"1) Square\")\n",
    "print(\"2) Triangle\")\n",
    "print()\n",
    "selection=int(input(\"Enter a number: \"))\n",
    "if selection == 1:\n",
    "    length=int(input(\"Enter a length of on of its sides: \"))\n",
    "    area_square=int(length**2)\n",
    "    print(\"the area is\",area_square)\n",
    "elif selection == 2:\n",
    "    base=int(input(\"Enter the base of the triangle: \"))\n",
    "    height=int(input(\"Enter the height of the triangle: \"))\n",
    "    area_triangle=int((base*height)/2)\n",
    "    print(\"The area is\", area_triangle)\n",
    "else:\n",
    "    print(\"Incorrect selection. Please enter 1 or 2\")"
   ]
  },
  {
   "cell_type": "code",
   "execution_count": null,
   "id": "295b9f75-bb80-49be-8629-f8e2819f25e8",
   "metadata": {},
   "outputs": [],
   "source": [
    "# 35. Ask the user to enter their name and then display their name 3 times."
   ]
  },
  {
   "cell_type": "code",
   "execution_count": 138,
   "id": "51d35ad5-8f4a-473d-bb0b-40d44bed21fe",
   "metadata": {},
   "outputs": [
    {
     "name": "stdin",
     "output_type": "stream",
     "text": [
      "Enter your name:  Marcin\n"
     ]
    },
    {
     "name": "stdout",
     "output_type": "stream",
     "text": [
      "Marcin\n",
      "Marcin\n",
      "Marcin\n"
     ]
    }
   ],
   "source": [
    "name=str(input(\"Enter your name: \"))\n",
    "for i in range(0,3):\n",
    "    print(name)"
   ]
  },
  {
   "cell_type": "code",
   "execution_count": null,
   "id": "ef1a9159-d95d-442f-9d82-27cffe078dfc",
   "metadata": {},
   "outputs": [],
   "source": [
    "# 36. Alter program 35 so that it will ask the user to enter their name and a number and  then display their name that number of times."
   ]
  },
  {
   "cell_type": "code",
   "execution_count": 141,
   "id": "21a4a08d-d526-4481-a678-bea7c04877cd",
   "metadata": {},
   "outputs": [
    {
     "name": "stdin",
     "output_type": "stream",
     "text": [
      "Enter your name:  Marcin\n",
      "Enter a number:  7\n"
     ]
    },
    {
     "name": "stdout",
     "output_type": "stream",
     "text": [
      "Marcin\n",
      "Marcin\n",
      "Marcin\n",
      "Marcin\n",
      "Marcin\n",
      "Marcin\n",
      "Marcin\n"
     ]
    }
   ],
   "source": [
    "name=str(input(\"Enter your name: \"))\n",
    "num1=int(input(\"Enter a number: \"))\n",
    "for i in range(0,num1):\n",
    "    print(name)"
   ]
  },
  {
   "cell_type": "code",
   "execution_count": null,
   "id": "af886e8c-5f2f-4e14-8af1-051c39aa7599",
   "metadata": {},
   "outputs": [],
   "source": [
    "# 37. Ask the user to enter their name and display each letter in their name on a separate line"
   ]
  },
  {
   "cell_type": "code",
   "execution_count": 142,
   "id": "a1a712b6-a23d-40c2-a50f-a2d6f924c6dd",
   "metadata": {},
   "outputs": [
    {
     "name": "stdin",
     "output_type": "stream",
     "text": [
      "Enter your name:  Marcin\n"
     ]
    },
    {
     "name": "stdout",
     "output_type": "stream",
     "text": [
      "M\n",
      "a\n",
      "r\n",
      "c\n",
      "i\n",
      "n\n"
     ]
    }
   ],
   "source": [
    "name=str(input(\"Enter your name: \"))\n",
    "for i in name:\n",
    "    print(i)\n"
   ]
  },
  {
   "cell_type": "code",
   "execution_count": null,
   "id": "8d81bc95-1d9e-4f86-bee9-9743e4a74583",
   "metadata": {},
   "outputs": [],
   "source": [
    "# 38. Change program 37 to also ask for a number. Display their name(one letter at a time on each line) and repeat this fot the number of times they entered."
   ]
  },
  {
   "cell_type": "code",
   "execution_count": 144,
   "id": "8dee101e-2b45-4192-8534-03e086197a88",
   "metadata": {},
   "outputs": [
    {
     "name": "stdin",
     "output_type": "stream",
     "text": [
      "Enter your name:  Marcin\n",
      "Enter a number:  3\n"
     ]
    },
    {
     "name": "stdout",
     "output_type": "stream",
     "text": [
      "M\n",
      "a\n",
      "r\n",
      "c\n",
      "i\n",
      "n\n",
      "M\n",
      "a\n",
      "r\n",
      "c\n",
      "i\n",
      "n\n",
      "M\n",
      "a\n",
      "r\n",
      "c\n",
      "i\n",
      "n\n"
     ]
    }
   ],
   "source": [
    "name=str(input(\"Enter your name: \"))\n",
    "num=int(input(\"Enter a number: \"))\n",
    "for x in range (0,num):\n",
    "    for i in name:\n",
    "        print(i)"
   ]
  },
  {
   "cell_type": "code",
   "execution_count": null,
   "id": "772cc14a-a6c2-481a-9828-5b85d9cb3a73",
   "metadata": {},
   "outputs": [],
   "source": [
    "# 39. Ask the user to enter a number between 1 and 12 and then display the times table for that number."
   ]
  },
  {
   "cell_type": "code",
   "execution_count": 1,
   "id": "673fe9bc-c208-4c44-98e8-a9154435289b",
   "metadata": {},
   "outputs": [
    {
     "name": "stdin",
     "output_type": "stream",
     "text": [
      "Enter a number between 1 and 12:  2\n"
     ]
    },
    {
     "name": "stdout",
     "output_type": "stream",
     "text": [
      "1 x 2 = 2\n",
      "2 x 2 = 4\n",
      "3 x 2 = 6\n",
      "4 x 2 = 8\n",
      "5 x 2 = 10\n",
      "6 x 2 = 12\n",
      "7 x 2 = 14\n",
      "8 x 2 = 16\n",
      "9 x 2 = 18\n",
      "10 x 2 = 20\n",
      "11 x 2 = 22\n",
      "12 x 2 = 24\n"
     ]
    }
   ],
   "source": [
    "num = int(input(\"Enter a number between 1 and 12: \"))\n",
    "for i in range (1,13):\n",
    "    answer = i * num\n",
    "    print (i, \"x\", num, \"=\", answer)"
   ]
  },
  {
   "cell_type": "code",
   "execution_count": null,
   "id": "a80a3394-e2d8-4403-8def-87934fce58f1",
   "metadata": {},
   "outputs": [],
   "source": [
    "# 40. Ask for a number below 50 and then count down from 50 to that number, making sure you show the number they entered in the output."
   ]
  },
  {
   "cell_type": "code",
   "execution_count": 2,
   "id": "39436965-af11-487b-bdb6-b79eff65117e",
   "metadata": {},
   "outputs": [
    {
     "name": "stdin",
     "output_type": "stream",
     "text": [
      "Enter a number below 50:  40\n"
     ]
    },
    {
     "name": "stdout",
     "output_type": "stream",
     "text": [
      "50\n",
      "49\n",
      "48\n",
      "47\n",
      "46\n",
      "45\n",
      "44\n",
      "43\n",
      "42\n",
      "41\n",
      "40\n"
     ]
    }
   ],
   "source": [
    "num = int(input(\"Enter a number below 50: \"))\n",
    "for i in range(50,num-1, -1):\n",
    "    print(i)"
   ]
  },
  {
   "cell_type": "code",
   "execution_count": null,
   "id": "d7ec76e3-bf22-4601-923d-aff5899675f7",
   "metadata": {},
   "outputs": [],
   "source": [
    "# 41. Ask the user to enter their name and a number. If the number is less than 10, then display their name that number of times; otherwise display the message “Too high” three times."
   ]
  },
  {
   "cell_type": "code",
   "execution_count": 3,
   "id": "d5cefbc2-ea33-4333-a593-550125fef431",
   "metadata": {},
   "outputs": [
    {
     "name": "stdin",
     "output_type": "stream",
     "text": [
      "Enter your name:  Marcin\n",
      "Enter a number:  3\n"
     ]
    },
    {
     "name": "stdout",
     "output_type": "stream",
     "text": [
      "Marcin\n",
      "Marcin\n",
      "Marcin\n"
     ]
    }
   ],
   "source": [
    "name=str(input(\"Enter your name: \"))\n",
    "num=int(input(\"Enter a number: \"))\n",
    "if num < 10:\n",
    "    for i in range(0,num):\n",
    "        print(name)\n",
    "else:\n",
    "    for i in range(0,3):\n",
    "        print(\"Too high\")"
   ]
  },
  {
   "cell_type": "code",
   "execution_count": null,
   "id": "190ce7d5-69fc-403a-9f9d-c8a6cc7a7c9d",
   "metadata": {},
   "outputs": [],
   "source": [
    "# 42. Set a variable called total to 0. Ask the user to enter five numbers and after each input ask them if they want that number included. If they do, then add the number to the total. If they do not want it included, don’t add it to the total. After they have entered all five numbers, display the total."
   ]
  },
  {
   "cell_type": "code",
   "execution_count": null,
   "id": "98d4aec2-15ca-4843-bbde-4460ec6861c0",
   "metadata": {},
   "outputs": [],
   "source": []
  },
  {
   "cell_type": "code",
   "execution_count": 1,
   "id": "5d3fd983-875a-4b74-a820-36a8d86c10b0",
   "metadata": {},
   "outputs": [
    {
     "name": "stdin",
     "output_type": "stream",
     "text": [
      "Enter a number:  2\n",
      "Do you want this number included? (y/n)  y\n",
      "Enter a number:  2\n",
      "Do you want this number included? (y/n)  n\n",
      "Enter a number:  2\n",
      "Do you want this number included? (y/n)  n\n",
      "Enter a number:  3\n",
      "Do you want this number included? (y/n)  y\n",
      "Enter a number:  2\n",
      "Do you want this number included? (y/n)  y\n"
     ]
    },
    {
     "name": "stdout",
     "output_type": "stream",
     "text": [
      "7\n"
     ]
    }
   ],
   "source": [
    "total = 0\n",
    "for i in range(0,5):\n",
    "    num = int(input(\"Enter a number: \"))\n",
    "    ans = input(\"Do you want this number included? (y/n) \")\n",
    "    if ans == \"y\":\n",
    "        total = total + num\n",
    "print(total)"
   ]
  },
  {
   "cell_type": "code",
   "execution_count": null,
   "id": "0f7773c6-d351-42d1-81fb-91674a0b2554",
   "metadata": {},
   "outputs": [],
   "source": [
    "# 43. Ask which direction the user wants to count (up or down). If they select up, then ask them for the top number and then count from 1 to that number. If they select down, ask them to enter a number below 20 and then count down from 20 to that number. If they entered something other than up or down, display the message “I don’t understand”."
   ]
  },
  {
   "cell_type": "code",
   "execution_count": 2,
   "id": "e83df9c4-9b3d-4d0b-89a5-3ade4a916a14",
   "metadata": {},
   "outputs": [
    {
     "name": "stdin",
     "output_type": "stream",
     "text": [
      "Which direction do you want to count (up or down):  up\n",
      "Enter a top number:  3\n"
     ]
    },
    {
     "name": "stdout",
     "output_type": "stream",
     "text": [
      "1\n",
      "2\n",
      "3\n"
     ]
    }
   ],
   "source": [
    "ask = str(input(\"Which direction do you want to count (up or down): \"))\n",
    "if ask==\"up\":\n",
    "    num=int(input(\"Enter a top number: \"))\n",
    "    for i in range(1,num+1,1):\n",
    "        print(i)\n",
    "elif ask==\"down\":\n",
    "    num=int(input(\"Enter number below 20: \"))\n",
    "    for i in range(20,num-1,-1):\n",
    "        print(i)\n",
    "else:\n",
    "    print(\"I don't understand\")"
   ]
  },
  {
   "cell_type": "code",
   "execution_count": null,
   "id": "7f079d00-8528-48db-887a-be9f1764954b",
   "metadata": {},
   "outputs": [],
   "source": [
    "# 44. Ask how many people the user wants to invite to a party. If they enter a number below 10, ask for the names and after each name display “[name] has been invited”. If they enter a number which is 10 or higher, display the message “Too many people”."
   ]
  },
  {
   "cell_type": "code",
   "execution_count": 3,
   "id": "a5d9c20e-3f9e-43a9-893f-50a35278a1a4",
   "metadata": {},
   "outputs": [
    {
     "name": "stdin",
     "output_type": "stream",
     "text": [
      "How many people to you want to invite to a party?:  3\n",
      "Enter a name:  Adam\n"
     ]
    },
    {
     "name": "stdout",
     "output_type": "stream",
     "text": [
      "Adam has been invited\n"
     ]
    },
    {
     "name": "stdin",
     "output_type": "stream",
     "text": [
      "Enter a name:  Jan\n"
     ]
    },
    {
     "name": "stdout",
     "output_type": "stream",
     "text": [
      "Jan has been invited\n"
     ]
    },
    {
     "name": "stdin",
     "output_type": "stream",
     "text": [
      "Enter a name:  Kasia\n"
     ]
    },
    {
     "name": "stdout",
     "output_type": "stream",
     "text": [
      "Kasia has been invited\n"
     ]
    }
   ],
   "source": [
    "num = int(input(\"How many people to you want to invite to a party?: \"))\n",
    "if num < 10:\n",
    "    for i in range(0,num):\n",
    "        name=str(input(\"Enter a name: \"))\n",
    "        print(name, \"has been invited\")\n",
    "else:\n",
    "    print(\"Too many people\")"
   ]
  },
  {
   "cell_type": "code",
   "execution_count": null,
   "id": "0283c20e-d22f-4211-ba03-22d5d273a882",
   "metadata": {},
   "outputs": [],
   "source": [
    "# 45. Set the total to 0 to start with. While the total is 50 or less, ask the user to input a number. Add that number to the total and print the message “The total is… [total]”. Stop the loop when the total is over 50."
   ]
  },
  {
   "cell_type": "code",
   "execution_count": 4,
   "id": "e74ff8d7-2b52-4819-b765-2c26753634a5",
   "metadata": {},
   "outputs": [
    {
     "name": "stdin",
     "output_type": "stream",
     "text": [
      "Enter a number:  3\n",
      "Enter a number:  2\n",
      "Enter a number:  2\n",
      "Enter a number:  65\n"
     ]
    },
    {
     "name": "stdout",
     "output_type": "stream",
     "text": [
      "The total is 72\n"
     ]
    }
   ],
   "source": [
    "total = 0\n",
    "while total <= 50:\n",
    "    num = int(input(\"Enter a number: \"))\n",
    "    total = total + num\n",
    "print(\"The total is\", total)"
   ]
  },
  {
   "cell_type": "code",
   "execution_count": null,
   "id": "98103d00-f5f5-4de0-a758-cf64431eee6d",
   "metadata": {},
   "outputs": [],
   "source": [
    "# 46. Ask the user to enter a number. Keep asking until they enter a value over 5 and then display the message “The last number you entered was a [number]” and stop the program."
   ]
  },
  {
   "cell_type": "code",
   "execution_count": 5,
   "id": "bdb6d0e4-1794-48ef-b5f9-c0a4bb84a328",
   "metadata": {},
   "outputs": [
    {
     "name": "stdin",
     "output_type": "stream",
     "text": [
      "Enter a number:  2\n",
      "Enter a number:  4\n",
      "Enter a number:  5\n",
      "Enter a number:  2\n",
      "Enter a number:  2\n",
      "Enter a number:  2\n",
      "Enter a number:  6\n"
     ]
    },
    {
     "name": "stdout",
     "output_type": "stream",
     "text": [
      "The last number you entered was 6\n"
     ]
    }
   ],
   "source": [
    "number = 0\n",
    "while number <= 5:\n",
    "    number = int(input(\"Enter a number: \"))\n",
    "print(\"The last number you entered was\", number)"
   ]
  },
  {
   "cell_type": "code",
   "execution_count": null,
   "id": "4e561b16-db81-44ed-bf75-19b5918a3b9e",
   "metadata": {},
   "outputs": [],
   "source": [
    "# 47. Ask the user to enter a number and then enter another number. Add these two numbers together and then ask if they want to add another number. If they enter “y\", ask them to enter another number and keep adding numbers until they do not answer “y”. Once the loop has stopped, display the total.# 4"
   ]
  },
  {
   "cell_type": "code",
   "execution_count": 6,
   "id": "5fb598e8-c36f-467e-b754-c95538916633",
   "metadata": {},
   "outputs": [
    {
     "name": "stdin",
     "output_type": "stream",
     "text": [
      "Enter a number:  3\n",
      "Enter another number:  2\n",
      "Do you want to add another number (y/n)  n\n"
     ]
    },
    {
     "name": "stdout",
     "output_type": "stream",
     "text": [
      "The total is  5\n"
     ]
    }
   ],
   "source": [
    "num1 = int(input(\"Enter a number: \"))\n",
    "total=num1\n",
    "again = \"y\"\n",
    "while again == \"y\":\n",
    "    num2=int(input(\"Enter another number: \"))\n",
    "    total = total + num2\n",
    "    again = str(input(\"Do you want to add another number (y/n) \"))\n",
    "print(\"The total is \",total)"
   ]
  },
  {
   "cell_type": "code",
   "execution_count": null,
   "id": "ebdb467a-71b2-4009-9c70-2798115a410b",
   "metadata": {},
   "outputs": [],
   "source": [
    "# 48. Ask for the name of somebody the user wants to invite to a party. After this, display the message “[name] has now been invited” and add 1 to the count. Then ask if they want to invite somebody else. Keep repeating this until they no longer want to invite anyone else to the party and then display how many people they have coming to the party"
   ]
  },
  {
   "cell_type": "code",
   "execution_count": 7,
   "id": "059522c6-207a-498b-86e9-4f1152d38724",
   "metadata": {},
   "outputs": [
    {
     "name": "stdin",
     "output_type": "stream",
     "text": [
      "Enter the name of person that you want to invite to a party:  Adam\n"
     ]
    },
    {
     "name": "stdout",
     "output_type": "stream",
     "text": [
      "Adam has now been invited\n"
     ]
    },
    {
     "name": "stdin",
     "output_type": "stream",
     "text": [
      "Do you want to invite somebody else? (y/n)  y\n",
      "Enter the name of person that you want to invite to a party:  Jan\n"
     ]
    },
    {
     "name": "stdout",
     "output_type": "stream",
     "text": [
      "Jan has now been invited\n"
     ]
    },
    {
     "name": "stdin",
     "output_type": "stream",
     "text": [
      "Do you want to invite somebody else? (y/n)  n\n"
     ]
    },
    {
     "name": "stdout",
     "output_type": "stream",
     "text": [
      "2 people coming to the party\n"
     ]
    }
   ],
   "source": [
    "total = 0\n",
    "again = \"y\"\n",
    "\n",
    "while again == \"y\":\n",
    "    name =str(input(\"Enter the name of person that you want to invite to a party: \"))\n",
    "    print(name, \"has now been invited\")\n",
    "    total = total+1\n",
    "    again = str(input(\"Do you want to invite somebody else? (y/n) \"))\n",
    "print(total, \"people coming to the party\")"
   ]
  },
  {
   "cell_type": "code",
   "execution_count": null,
   "id": "d940a958-cd09-4660-9ee6-5f10ae8a54f5",
   "metadata": {},
   "outputs": [],
   "source": [
    "# 49. Create a variable called compnum and set the value to 50. Ask the user to enter a number. While their guess is not the same as the compnum value, tell them if their guess is too low or too high and ask them to have another guess. If they enter the same value as compnum, display the message “Well done, you took [count] attempts”."
   ]
  },
  {
   "cell_type": "code",
   "execution_count": 8,
   "id": "7ce43877-056b-4f9f-9ac3-ba73eff73484",
   "metadata": {},
   "outputs": [
    {
     "name": "stdin",
     "output_type": "stream",
     "text": [
      "Enter a number:  3\n"
     ]
    },
    {
     "name": "stdout",
     "output_type": "stream",
     "text": [
      "Too low!\n"
     ]
    },
    {
     "name": "stdin",
     "output_type": "stream",
     "text": [
      "Try another number:  45\n"
     ]
    },
    {
     "name": "stdout",
     "output_type": "stream",
     "text": [
      "Too low!\n"
     ]
    },
    {
     "name": "stdin",
     "output_type": "stream",
     "text": [
      "Try another number:  53\n"
     ]
    },
    {
     "name": "stdout",
     "output_type": "stream",
     "text": [
      "Too high!\n"
     ]
    },
    {
     "name": "stdin",
     "output_type": "stream",
     "text": [
      "Try another number:  50\n"
     ]
    },
    {
     "name": "stdout",
     "output_type": "stream",
     "text": [
      "Well done, you took 4 attempts\n"
     ]
    }
   ],
   "source": [
    "compnum = 50\n",
    "count = 1\n",
    "guess = int(input(\"Enter a number: \"))\n",
    "while compnum != guess:\n",
    "    if guess > compnum:\n",
    "        print(\"Too high!\")\n",
    "    elif guess < compnum:\n",
    "        print(\"Too low!\")\n",
    "    count = count + 1\n",
    "    guess = int(input(\"Try another number: \"))\n",
    "print(\"Well done, you took\", count, \"attempts\")"
   ]
  },
  {
   "cell_type": "code",
   "execution_count": null,
   "id": "2f8c99cb-f9d0-485f-85dd-b19265ac30b2",
   "metadata": {},
   "outputs": [],
   "source": [
    "# 50. Ask the user to enter a number between 10 and 20. If they enter a value under 10, display the message “Too low” and ask them to try again. If they enter a value above 20, display the message “Too high” and ask them to try again. Keep repeating this until they enter a value that is between 10 and 20 and then display the message “Thank you”."
   ]
  },
  {
   "cell_type": "code",
   "execution_count": 10,
   "id": "d019bee1-0a8a-4b6e-95d2-3db1d5d50b12",
   "metadata": {},
   "outputs": [
    {
     "name": "stdin",
     "output_type": "stream",
     "text": [
      "Enter a number between 10 and 20:  23\n"
     ]
    },
    {
     "name": "stdout",
     "output_type": "stream",
     "text": [
      "Too high\n"
     ]
    },
    {
     "name": "stdin",
     "output_type": "stream",
     "text": [
      "Try again:  6\n"
     ]
    },
    {
     "name": "stdout",
     "output_type": "stream",
     "text": [
      "Too low\n"
     ]
    },
    {
     "name": "stdin",
     "output_type": "stream",
     "text": [
      "Try again:  14\n"
     ]
    },
    {
     "name": "stdout",
     "output_type": "stream",
     "text": [
      "Thank you\n"
     ]
    }
   ],
   "source": [
    "num = int(input(\"Enter a number between 10 and 20: \"))\n",
    "while num <10 or num >20:\n",
    "    if num <10:\n",
    "        print(\"Too low\")\n",
    "    else:\n",
    "        print(\"Too high\")\n",
    "    num = int(input(\"Try again: \"))\n",
    "print(\"Thank you\")"
   ]
  },
  {
   "cell_type": "code",
   "execution_count": null,
   "id": "6c6a66fb-5b1e-477a-9412-714c2dfe0c62",
   "metadata": {},
   "outputs": [],
   "source": [
    "# 51. Using the song “10 green bottles”, display the lines “There are [num] green bottles hanging on the wall, [num] green bottles hanging on the wall, and if 1 green bottle should accidentally fall”. Then ask the question “how many green bottles will be hanging on the wall?” If the user answers correctly, display the message “There will be [num] green bottles hanging on the wall”. If they answer incorrectly, display the message “No, try again” until they get it right. When the number of green bottles gets down to 0, display the message “There are no more green bottles hanging on the wall”."
   ]
  },
  {
   "cell_type": "code",
   "execution_count": 1,
   "id": "0d282bc0-f925-4936-b924-5ce33951dc9b",
   "metadata": {},
   "outputs": [
    {
     "name": "stdout",
     "output_type": "stream",
     "text": [
      "There are 10 green bottles hanging on the wall\n",
      "10 green bottles hanging on the wall.\n",
      "And if 1 green bottle should accidentally fall\n"
     ]
    },
    {
     "name": "stdin",
     "output_type": "stream",
     "text": [
      "How many green bottles will be hanging on the wall?  4\n",
      "No, try again:  7\n",
      "No, try again:  9\n"
     ]
    },
    {
     "name": "stdout",
     "output_type": "stream",
     "text": [
      "There are 9 green bottles hanging on the wall\n",
      "9 green bottles hanging on the wall.\n",
      "And if 1 green bottle should accidentally fall\n"
     ]
    },
    {
     "name": "stdin",
     "output_type": "stream",
     "text": [
      "How many green bottles will be hanging on the wall?  8\n"
     ]
    },
    {
     "name": "stdout",
     "output_type": "stream",
     "text": [
      "There will be  8 green bottles hanging on the wall\n",
      "There are 8 green bottles hanging on the wall\n",
      "8 green bottles hanging on the wall.\n",
      "And if 1 green bottle should accidentally fall\n"
     ]
    },
    {
     "name": "stdin",
     "output_type": "stream",
     "text": [
      "How many green bottles will be hanging on the wall?  7\n"
     ]
    },
    {
     "name": "stdout",
     "output_type": "stream",
     "text": [
      "There will be  7 green bottles hanging on the wall\n",
      "There are 7 green bottles hanging on the wall\n",
      "7 green bottles hanging on the wall.\n",
      "And if 1 green bottle should accidentally fall\n"
     ]
    },
    {
     "name": "stdin",
     "output_type": "stream",
     "text": [
      "How many green bottles will be hanging on the wall?  6\n"
     ]
    },
    {
     "name": "stdout",
     "output_type": "stream",
     "text": [
      "There will be  6 green bottles hanging on the wall\n",
      "There are 6 green bottles hanging on the wall\n",
      "6 green bottles hanging on the wall.\n",
      "And if 1 green bottle should accidentally fall\n"
     ]
    },
    {
     "name": "stdin",
     "output_type": "stream",
     "text": [
      "How many green bottles will be hanging on the wall?  4\n",
      "No, try again:  5\n"
     ]
    },
    {
     "name": "stdout",
     "output_type": "stream",
     "text": [
      "There are 5 green bottles hanging on the wall\n",
      "5 green bottles hanging on the wall.\n",
      "And if 1 green bottle should accidentally fall\n"
     ]
    },
    {
     "name": "stdin",
     "output_type": "stream",
     "text": [
      "How many green bottles will be hanging on the wall?  4\n"
     ]
    },
    {
     "name": "stdout",
     "output_type": "stream",
     "text": [
      "There will be  4 green bottles hanging on the wall\n",
      "There are 4 green bottles hanging on the wall\n",
      "4 green bottles hanging on the wall.\n",
      "And if 1 green bottle should accidentally fall\n"
     ]
    },
    {
     "name": "stdin",
     "output_type": "stream",
     "text": [
      "How many green bottles will be hanging on the wall?  3\n"
     ]
    },
    {
     "name": "stdout",
     "output_type": "stream",
     "text": [
      "There will be  3 green bottles hanging on the wall\n",
      "There are 3 green bottles hanging on the wall\n",
      "3 green bottles hanging on the wall.\n",
      "And if 1 green bottle should accidentally fall\n"
     ]
    },
    {
     "name": "stdin",
     "output_type": "stream",
     "text": [
      "How many green bottles will be hanging on the wall?  1\n",
      "No, try again:  4\n",
      "No, try again:  2\n"
     ]
    },
    {
     "name": "stdout",
     "output_type": "stream",
     "text": [
      "There are 2 green bottles hanging on the wall\n",
      "2 green bottles hanging on the wall.\n",
      "And if 1 green bottle should accidentally fall\n"
     ]
    },
    {
     "name": "stdin",
     "output_type": "stream",
     "text": [
      "How many green bottles will be hanging on the wall?  1\n"
     ]
    },
    {
     "name": "stdout",
     "output_type": "stream",
     "text": [
      "There will be  1 green bottles hanging on the wall\n",
      "There are 1 green bottles hanging on the wall\n",
      "1 green bottles hanging on the wall.\n",
      "And if 1 green bottle should accidentally fall\n"
     ]
    },
    {
     "name": "stdin",
     "output_type": "stream",
     "text": [
      "How many green bottles will be hanging on the wall?  1\n",
      "No, try again:  0\n"
     ]
    },
    {
     "name": "stdout",
     "output_type": "stream",
     "text": [
      "There are no more green bottles hanging on the wall\n"
     ]
    }
   ],
   "source": [
    "num = 10\n",
    "while num > 0:\n",
    "    print(\"There are\", num, \"green bottles hanging on the wall\")\n",
    "    print(num, \"green bottles hanging on the wall.\")\n",
    "    print(\"And if 1 green bottle should accidentally fall\")\n",
    "    num = num - 1\n",
    "    answer =int(input(\"How many green bottles will be hanging on the wall? \"))\n",
    "    if answer == num:\n",
    "        print(\"There will be \",num, \"green bottles hanging on the wall\")\n",
    "    else:\n",
    "        while answer != num:\n",
    "            answer=int(input(\"No, try again: \"))\n",
    "print(\"There are no more green bottles hanging on the wall\")"
   ]
  },
  {
   "cell_type": "code",
   "execution_count": 6,
   "id": "e7ef321b-e27d-41db-8e98-b5457cb4a329",
   "metadata": {},
   "outputs": [],
   "source": [
    "import random"
   ]
  },
  {
   "cell_type": "code",
   "execution_count": 3,
   "id": "2708daf9-7dec-4d54-a766-18a4e3e8cd4f",
   "metadata": {},
   "outputs": [
    {
     "name": "stdout",
     "output_type": "stream",
     "text": [
      "46.310841264357194\n"
     ]
    }
   ],
   "source": [
    "num = random.random()\n",
    "num = num * 100\n",
    "print(num)"
   ]
  },
  {
   "cell_type": "code",
   "execution_count": 14,
   "id": "a52dcacf-c529-461b-bfe9-4ccf618be55e",
   "metadata": {},
   "outputs": [
    {
     "name": "stdout",
     "output_type": "stream",
     "text": [
      "3\n"
     ]
    }
   ],
   "source": [
    "num = random.randint(0,9)\n",
    "print(num)"
   ]
  },
  {
   "cell_type": "code",
   "execution_count": 13,
   "id": "aa8ac6c4-c228-4084-afb9-9b3f8ad9c04d",
   "metadata": {},
   "outputs": [
    {
     "name": "stdout",
     "output_type": "stream",
     "text": [
      "0.00739476678043231\n"
     ]
    }
   ],
   "source": [
    "num1 = random.randint(0,1000)\n",
    "num2 = random.randint(0,2000)\n",
    "newrand = num1/num2\n",
    "print(newrand)"
   ]
  },
  {
   "cell_type": "code",
   "execution_count": 17,
   "id": "15c88559-c920-4da1-b0fa-30ba2f03cf93",
   "metadata": {},
   "outputs": [
    {
     "name": "stdout",
     "output_type": "stream",
     "text": [
      "30\n"
     ]
    }
   ],
   "source": [
    "num = random.randrange(0,100,5)\n",
    "print(num)"
   ]
  },
  {
   "cell_type": "code",
   "execution_count": 21,
   "id": "b675597a-dc97-4219-83d7-9db2662dcdb0",
   "metadata": {},
   "outputs": [
    {
     "name": "stdout",
     "output_type": "stream",
     "text": [
      "red\n"
     ]
    }
   ],
   "source": [
    "colour = random.choice([\"red\", \"black\", \"green\"])\n",
    "print(colour)"
   ]
  },
  {
   "cell_type": "code",
   "execution_count": null,
   "id": "86c10246-7839-4379-ab7b-3b813f276e03",
   "metadata": {},
   "outputs": [],
   "source": [
    "#52 Display a random integer between 1 and 100 inclusive."
   ]
  },
  {
   "cell_type": "code",
   "execution_count": 23,
   "id": "76cf2da3-530c-46e7-a022-4761e93893e0",
   "metadata": {},
   "outputs": [
    {
     "name": "stdout",
     "output_type": "stream",
     "text": [
      "87\n"
     ]
    }
   ],
   "source": [
    "import random\n",
    "num = random.randint(1,100)\n",
    "print(num)"
   ]
  },
  {
   "cell_type": "code",
   "execution_count": null,
   "id": "ac792b64-c445-4f29-bd1a-f67ffdc015e2",
   "metadata": {},
   "outputs": [],
   "source": [
    "#53 Display a random fruit from a list of five fruits."
   ]
  },
  {
   "cell_type": "code",
   "execution_count": 26,
   "id": "f137b9df-f344-4f98-85f9-f8c39887ec56",
   "metadata": {},
   "outputs": [
    {
     "name": "stdout",
     "output_type": "stream",
     "text": [
      "apple\n"
     ]
    }
   ],
   "source": [
    "import random\n",
    "fruit = random.choice([\"banana\", \"orange\", \"apple\", \"Cherry\", \"blueberry\"])\n",
    "print(fruit)"
   ]
  },
  {
   "cell_type": "code",
   "execution_count": null,
   "id": "b0a6b01e-13ca-4977-a2e7-f09ac5e7a467",
   "metadata": {},
   "outputs": [],
   "source": [
    "#54 Randomly choose either heads or tails (“h” or “t”). Ask the user to make their choice. If their choice is the same as the randomly selected value, display the message “You win”, otherwise display “Bad luck”. At the end, tell the user if the computer selected heads or tails."
   ]
  },
  {
   "cell_type": "code",
   "execution_count": 29,
   "id": "04093061-2eaa-48f5-bf03-0a2afc2ce174",
   "metadata": {},
   "outputs": [
    {
     "name": "stdin",
     "output_type": "stream",
     "text": [
      "Choose heads or tails (h / t):  h\n"
     ]
    },
    {
     "name": "stdout",
     "output_type": "stream",
     "text": [
      "Bad luck\n",
      "It was tails\n"
     ]
    }
   ],
   "source": [
    "import random\n",
    "x = random.choice([\"h\", \"t\"])\n",
    "answer=str(input(\"Choose heads or tails (h / t): \"))\n",
    "if answer == x:\n",
    "    print(\"You win\")\n",
    "else:\n",
    "    print(\"Bad luck\")\n",
    "if x == \"h\":\n",
    "    print(\"It was heads\")\n",
    "else:\n",
    "    print(\"It was tails\")"
   ]
  },
  {
   "cell_type": "code",
   "execution_count": null,
   "id": "18c5b223-fb20-4c82-8fc7-920153ae672a",
   "metadata": {},
   "outputs": [],
   "source": [
    "# 55. Randomly choose a number between 1 and 5. Ask the user to pick a number. If they guess correctly, display the message “Well done”, otherwise tell them if they are too high or too low and ask them to pick a second number. If they guess correctly on their second guess, display “Correct”, otherwise display “You lose”."
   ]
  },
  {
   "cell_type": "code",
   "execution_count": 42,
   "id": "6b7bb077-4273-47a2-9665-69a756adf63b",
   "metadata": {},
   "outputs": [
    {
     "name": "stdin",
     "output_type": "stream",
     "text": [
      "Pick a number:  3\n"
     ]
    },
    {
     "name": "stdout",
     "output_type": "stream",
     "text": [
      "Too low!\n"
     ]
    },
    {
     "name": "stdin",
     "output_type": "stream",
     "text": [
      "Pick a second number:  4\n"
     ]
    },
    {
     "name": "stdout",
     "output_type": "stream",
     "text": [
      "Correct!\n"
     ]
    }
   ],
   "source": [
    "import random\n",
    "num = random.randint(1,5)\n",
    "answer = int(input(\"Pick a number: \"))\n",
    "if answer == num:\n",
    "    print(\"Well done\")\n",
    "elif answer > num:\n",
    "    print(\"Too high!\")\n",
    "    answer = int(input(\"Pick a second number: \"))\n",
    "else:\n",
    "    print(\"Too low!\")\n",
    "    answer = int(input(\"Pick a second number: \"))\n",
    "if answer == num:\n",
    "    print(\"Correct!\")\n",
    "else:\n",
    "    print(\"You lose\")"
   ]
  },
  {
   "cell_type": "code",
   "execution_count": null,
   "id": "bf3fb4c2-8cef-4db1-8e7b-83ab3c1f4ddb",
   "metadata": {},
   "outputs": [],
   "source": [
    "#56. Randomly pick a whole number between 1 and 10. Ask the user to enter a number and keep entering numbers until they enter the number that was randomly picked."
   ]
  },
  {
   "cell_type": "code",
   "execution_count": 2,
   "id": "94824824-b785-42ba-9705-d79265b8186c",
   "metadata": {},
   "outputs": [
    {
     "name": "stdin",
     "output_type": "stream",
     "text": [
      "Enter a number:  2\n",
      "Enter a number:  3\n",
      "Enter a number:  4\n",
      "Enter a number:  5\n",
      "Enter a number:  6\n"
     ]
    }
   ],
   "source": [
    "import random\n",
    "num = random.randint(1,10)\n",
    "correct = False\n",
    "while correct == False:\n",
    "    guess = int(input(\"Enter a number: \"))\n",
    "    if guess == num:\n",
    "        correct = True"
   ]
  },
  {
   "cell_type": "code",
   "execution_count": null,
   "id": "3fd94487-a615-4b3b-b8a0-b51bd22e521d",
   "metadata": {},
   "outputs": [],
   "source": [
    "# 57. Update program 056 so that it tells the user if they are too high or too low before they pick again."
   ]
  },
  {
   "cell_type": "code",
   "execution_count": 3,
   "id": "ca86c2fa-64a9-4ca8-bd0c-6433dfb84a59",
   "metadata": {},
   "outputs": [
    {
     "name": "stdin",
     "output_type": "stream",
     "text": [
      "Enter a number:  3\n"
     ]
    },
    {
     "name": "stdout",
     "output_type": "stream",
     "text": [
      "Too low!\n"
     ]
    },
    {
     "name": "stdin",
     "output_type": "stream",
     "text": [
      "Enter a number:  2\n"
     ]
    },
    {
     "name": "stdout",
     "output_type": "stream",
     "text": [
      "Too low!\n"
     ]
    },
    {
     "name": "stdin",
     "output_type": "stream",
     "text": [
      "Enter a number:  4\n"
     ]
    },
    {
     "name": "stdout",
     "output_type": "stream",
     "text": [
      "Too low!\n"
     ]
    },
    {
     "name": "stdin",
     "output_type": "stream",
     "text": [
      "Enter a number:  5\n"
     ]
    },
    {
     "name": "stdout",
     "output_type": "stream",
     "text": [
      "Too low!\n"
     ]
    },
    {
     "name": "stdin",
     "output_type": "stream",
     "text": [
      "Enter a number:  5\n"
     ]
    },
    {
     "name": "stdout",
     "output_type": "stream",
     "text": [
      "Too low!\n"
     ]
    },
    {
     "name": "stdin",
     "output_type": "stream",
     "text": [
      "Enter a number:  6\n"
     ]
    },
    {
     "name": "stdout",
     "output_type": "stream",
     "text": [
      "Too low!\n"
     ]
    },
    {
     "name": "stdin",
     "output_type": "stream",
     "text": [
      "Enter a number:  7\n"
     ]
    }
   ],
   "source": [
    "import random\n",
    "num = random.randint(1,10)\n",
    "correct = False\n",
    "while correct == False:\n",
    "    guess = int(input(\"Enter a number: \"))\n",
    "    if guess == num:\n",
    "        correct = True\n",
    "    elif guess > num:\n",
    "        print(\"Too high!\")\n",
    "    else:\n",
    "        print(\"Too low!\")"
   ]
  },
  {
   "cell_type": "code",
   "execution_count": null,
   "id": "f44a8836-ba41-49a4-a501-800eaed794b6",
   "metadata": {},
   "outputs": [],
   "source": [
    "# 58. Make a maths quiz that asks five questions by randomly generating two whole numbers to make the question (e.g. [num1] + [num2]). Ask the user to enter the answer. If they get it right add a point to their score. At the end of the quiz, tell them how many they got correct out of five."
   ]
  },
  {
   "cell_type": "code",
   "execution_count": 4,
   "id": "1281880e-8d30-4ab6-95ac-2abfc586ed7e",
   "metadata": {},
   "outputs": [
    {
     "name": "stdout",
     "output_type": "stream",
     "text": [
      "40 + 28 = \n"
     ]
    },
    {
     "name": "stdin",
     "output_type": "stream",
     "text": [
      "Your answer:  68\n"
     ]
    },
    {
     "name": "stdout",
     "output_type": "stream",
     "text": [
      "\n",
      "35 + 2 = \n"
     ]
    },
    {
     "name": "stdin",
     "output_type": "stream",
     "text": [
      "Your answer:  37\n"
     ]
    },
    {
     "name": "stdout",
     "output_type": "stream",
     "text": [
      "\n",
      "47 + 29 = \n"
     ]
    },
    {
     "name": "stdin",
     "output_type": "stream",
     "text": [
      "Your answer:  76\n"
     ]
    },
    {
     "name": "stdout",
     "output_type": "stream",
     "text": [
      "\n",
      "6 + 27 = \n"
     ]
    },
    {
     "name": "stdin",
     "output_type": "stream",
     "text": [
      "Your answer:  33\n"
     ]
    },
    {
     "name": "stdout",
     "output_type": "stream",
     "text": [
      "\n",
      "37 + 22 = \n"
     ]
    },
    {
     "name": "stdin",
     "output_type": "stream",
     "text": [
      "Your answer:  3232\n"
     ]
    },
    {
     "name": "stdout",
     "output_type": "stream",
     "text": [
      "\n",
      "You scored 4 out of 5\n"
     ]
    }
   ],
   "source": [
    "import random\n",
    "score = 0\n",
    "for i in range(1,6):\n",
    "    num1 = random.randint(1,50)\n",
    "    num2 = random.randint(1,50)\n",
    "    correct = num1 + num2\n",
    "    print(num1, \"+\", num2, \"= \")\n",
    "    answer = int(input(\"Your answer: \"))\n",
    "    print()\n",
    "    if answer == correct:\n",
    "        score = score + 1\n",
    "print(\"You scored\", score, \"out of 5\")"
   ]
  },
  {
   "cell_type": "code",
   "execution_count": null,
   "id": "a65637b7-4ab4-4efb-b24b-0e32eb873e74",
   "metadata": {},
   "outputs": [],
   "source": [
    "# 59. Display five colours and ask the user to pick one. If they pick the same as the program has chosen, \n",
    "#say “Well done”, otherwise display a witty answer which involves the correct colour, e.g. “I bet you are GREEN with envy”\n",
    "# or “You are probably feeling BLUE right now”. Ask them to guess again; if they have still not got it right,\n",
    "# keep giving them the same clue and ask the user to enter a colour until they guess it correctly."
   ]
  },
  {
   "cell_type": "code",
   "execution_count": null,
   "id": "d10a1779-52cc-4998-91e8-35fc573f086f",
   "metadata": {},
   "outputs": [],
   "source": []
  }
 ],
 "metadata": {
  "kernelspec": {
   "display_name": "Python 3 (ipykernel)",
   "language": "python",
   "name": "python3"
  },
  "language_info": {
   "codemirror_mode": {
    "name": "ipython",
    "version": 3
   },
   "file_extension": ".py",
   "mimetype": "text/x-python",
   "name": "python",
   "nbconvert_exporter": "python",
   "pygments_lexer": "ipython3",
   "version": "3.12.1"
  }
 },
 "nbformat": 4,
 "nbformat_minor": 5
}
